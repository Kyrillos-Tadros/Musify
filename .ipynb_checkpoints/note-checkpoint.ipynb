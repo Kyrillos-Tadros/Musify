{
 "cells": [
  {
   "cell_type": "code",
   "execution_count": 1,
   "metadata": {},
   "outputs": [
    {
     "name": "stderr",
     "output_type": "stream",
     "text": [
      "2024-04-25 12:37:41.289511: E external/local_xla/xla/stream_executor/cuda/cuda_dnn.cc:9261] Unable to register cuDNN factory: Attempting to register factory for plugin cuDNN when one has already been registered\n",
      "2024-04-25 12:37:41.289613: E external/local_xla/xla/stream_executor/cuda/cuda_fft.cc:607] Unable to register cuFFT factory: Attempting to register factory for plugin cuFFT when one has already been registered\n",
      "2024-04-25 12:37:41.394537: E external/local_xla/xla/stream_executor/cuda/cuda_blas.cc:1515] Unable to register cuBLAS factory: Attempting to register factory for plugin cuBLAS when one has already been registered\n",
      "2024-04-25 12:37:41.626219: I tensorflow/core/platform/cpu_feature_guard.cc:182] This TensorFlow binary is optimized to use available CPU instructions in performance-critical operations.\n",
      "To enable the following instructions: AVX2 FMA, in other operations, rebuild TensorFlow with the appropriate compiler flags.\n",
      "2024-04-25 12:37:44.399591: W tensorflow/compiler/tf2tensorrt/utils/py_utils.cc:38] TF-TRT Warning: Could not find TensorRT\n"
     ]
    }
   ],
   "source": [
    "from three_second_segmentation import segment_music_files\n",
    "from feature_extraction import extract_features_for_all_sets"
   ]
  },
  {
   "cell_type": "code",
   "execution_count": 2,
   "metadata": {},
   "outputs": [],
   "source": [
    "# segmenting data into 3 seconds\n",
    "segment_music_files('genre_devided', 'segmented_data')\n",
    "# extracting chroma, mel spectrogram and mfcc features, concatinate it together and save them \n",
    "extract_features_for_all_sets(\n",
    "        parent_dir=\"segmented_data\",\n",
    "        output_dir=\"extracted_features\")"
   ]
  },
  {
   "cell_type": "code",
   "execution_count": null,
   "metadata": {},
   "outputs": [],
   "source": [
    "from pydub import AudioSegment\n",
    "import os\n",
    "from tqdm import tqdm\n",
    "\n",
    "# Path to the folder containing the original audio files\n",
    "input_folder = \"New folder\"\n",
    "\n",
    "# Create a new folder for the modified audio files\n",
    "output_folder = \"brand_new_data\"\n",
    "os.makedirs(output_folder, exist_ok=True)\n",
    "\n",
    "# Gather all audio files in the input folder\n",
    "audio_files = [f for f in os.listdir(input_folder) if f.endswith('.mp3') or f.endswith('.m4a')]\n",
    "\n",
    "# Find the length of the shortest audio file\n",
    "shortest_audio_length = float('inf')\n",
    "for file in audio_files:\n",
    "    audio = AudioSegment.from_file(os.path.join(input_folder, file))\n",
    "    if len(audio) < shortest_audio_length:\n",
    "        shortest_audio_length = len(audio)\n",
    "\n",
    "# Process audio files with a progress bar\n",
    "with tqdm(total=len(audio_files), desc=\"Processing audio files\") as pbar:\n",
    "    for file in audio_files:\n",
    "        audio = AudioSegment.from_file(os.path.join(input_folder, file))\n",
    "        \n",
    "        if len(audio) > shortest_audio_length:\n",
    "            audio = audio[:shortest_audio_length]\n",
    "\n",
    "        # Export the modified audio file to the output folder as WAV format\n",
    "        output_file_path = os.path.join(output_folder, os.path.splitext(file)[0] + \".wav\")\n",
    "        audio.export(output_file_path, format=\"wav\")\n",
    "\n",
    "        pbar.update(1)\n",
    "\n",
    "print(\"All audio files are now the same length and saved in the output folder as stereo WAV files with progress bar.\")"
   ]
  },
  {
   "cell_type": "code",
   "execution_count": null,
   "metadata": {},
   "outputs": [],
   "source": []
  }
 ],
 "metadata": {
  "kernelspec": {
   "display_name": "Python 3 (ipykernel)",
   "language": "python",
   "name": "python3"
  },
  "language_info": {
   "codemirror_mode": {
    "name": "ipython",
    "version": 3
   },
   "file_extension": ".py",
   "mimetype": "text/x-python",
   "name": "python",
   "nbconvert_exporter": "python",
   "pygments_lexer": "ipython3",
   "version": "3.10.6"
  },
  "toc": {
   "base_numbering": 1,
   "nav_menu": {},
   "number_sections": true,
   "sideBar": true,
   "skip_h1_title": false,
   "title_cell": "Table of Contents",
   "title_sidebar": "Contents",
   "toc_cell": false,
   "toc_position": {},
   "toc_section_display": true,
   "toc_window_display": false
  }
 },
 "nbformat": 4,
 "nbformat_minor": 2
}

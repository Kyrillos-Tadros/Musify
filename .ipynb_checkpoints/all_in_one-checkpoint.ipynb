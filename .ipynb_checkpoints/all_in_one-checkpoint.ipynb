{
 "cells": [
  {
   "cell_type": "code",
   "execution_count": 1,
   "metadata": {},
   "outputs": [],
   "source": [
    "import os\n",
    "import librosa\n",
    "import soundfile as sf\n",
    "from tqdm import tqdm\n",
    "from sklearn.preprocessing import LabelEncoder\n",
    "import pandas as pd"
   ]
  },
  {
   "cell_type": "code",
   "execution_count": 3,
   "metadata": {},
   "outputs": [],
   "source": [
    "def segment_music_files(parent_folder, output_folder, supported_extensions=('.aac', '.au', '.flac', '.m4a', '.mp3', 'ogg', '.wav')):\n",
    "    for genre_folder in os.listdir(parent_folder):\n",
    "        genre_path = os.path.join(parent_folder, genre_folder)\n",
    "        if os.path.isdir(genre_path):\n",
    "            output_genre_path = os.path.join(output_folder, genre_folder)\n",
    "            os.makedirs(output_genre_path, exist_ok=True)\n",
    "\n",
    "            for filename in os.listdir(genre_path):\n",
    "                if filename.lower().endswith(supported_extensions):\n",
    "                    file_path = os.path.join(genre_path, filename)\n",
    "                    base_filename, ext = os.path.splitext(filename)\n",
    "\n",
    "                    try:\n",
    "                        audio_file, sr = librosa.load(file_path)\n",
    "\n",
    "                        # Loop through audio data in 29-second chunks\n",
    "                        segment_index = 0\n",
    "                        for i in range(0, len(audio_file), sr * 29):\n",
    "                            segment = audio_file[i:i + sr * 29]\n",
    "\n",
    "                            # Check for non-empty segment before saving\n",
    "                            if len(segment) >= sr * 29 and len(segment) > 0:\n",
    "                                new_filename = f\"{base_filename}{ext}\"\n",
    "                                new_file_path = os.path.join(output_genre_path, new_filename)\n",
    "\n",
    "                                # Check if the file already exists, and append a number if it does\n",
    "                                if os.path.exists(new_file_path):\n",
    "                                    new_filename = f\"{base_filename}_{segment_index}{ext}\"\n",
    "                                    new_file_path = os.path.join(output_genre_path, new_filename)\n",
    "                                    segment_index += 1\n",
    "\n",
    "                                sf.write(new_file_path, segment, sr)\n",
    "\n",
    "                    except (IOError, sf.SoundFileError) as e:\n",
    "                        print(f\"Error processing file '{filename}': {e}\")\n",
    "\n",
    "segment_music_files('genres_original', 'Segmented_files')"
   ]
  },
  {
   "cell_type": "code",
   "execution_count": 2,
   "metadata": {},
   "outputs": [],
   "source": [
    "def extract_audio_features(input_dir, output_file_X, output_file_y):\n",
    "    audio_data = []\n",
    "    genre_labels = []\n",
    "\n",
    "    for genre_dir in os.listdir(input_dir):\n",
    "        genre_label = genre_dir\n",
    "        subdirectory_path = os.path.join(input_dir, genre_dir)\n",
    "\n",
    "        for filename in tqdm(os.listdir(subdirectory_path), desc=f\"Processing files in {genre_dir}\"):\n",
    "            filepath = os.path.join(subdirectory_path, filename)\n",
    "            try:\n",
    "                audio_features = load_audio_and_preprocess(filepath)\n",
    "                audio_data.append(audio_features.flatten())  # Flatten the mel spectrogram\n",
    "                genre_labels.append(genre_label)\n",
    "            except UserWarning as e:\n",
    "                if \"Trying to estimate tuning from empty frequency set\" in str(e):\n",
    "                    print(f\"Error processing file {filename} in {genre_dir}: {e}\")\n",
    "                    print(filepath)\n",
    "\n",
    "    encoder = LabelEncoder()\n",
    "    genre_labels_encoded = encoder.fit_transform(genre_labels)\n",
    "\n",
    "    # Create pandas DataFrames\n",
    "    audio_data_df = pd.DataFrame(audio_data)\n",
    "    genre_labels_df = pd.DataFrame({'genre': encoder.inverse_transform(genre_labels_encoded)})\n",
    "\n",
    "    # Create the 'extracted_csv' directory if it doesn't exist\n",
    "    os.makedirs('extracted_csv', exist_ok=True)\n",
    "\n",
    "    # Save audio features to CSV\n",
    "    audio_data_df.to_csv(output_file_X, index=False, header=False)\n",
    "\n",
    "    # Save genre labels to CSV\n",
    "    genre_labels_df.to_csv(output_file_y, index=False)\n",
    "\n",
    "    return audio_data_df, genre_labels_df"
   ]
  },
  {
   "cell_type": "code",
   "execution_count": null,
   "metadata": {},
   "outputs": [
    {
     "name": "stderr",
     "output_type": "stream",
     "text": [
      "Processing files in hiphop: 100%|█████████████████████████████████████████████████████| 100/100 [00:12<00:00,  7.81it/s]\n",
      "Processing files in classical: 100%|██████████████████████████████████████████████████| 100/100 [00:10<00:00,  9.31it/s]\n",
      "Processing files in blues: 100%|██████████████████████████████████████████████████████| 100/100 [00:10<00:00,  9.55it/s]\n",
      "Processing files in metal: 100%|██████████████████████████████████████████████████████| 100/100 [00:11<00:00,  9.07it/s]\n",
      "Processing files in jazz: 100%|█████████████████████████████████████████████████████████| 99/99 [00:10<00:00,  9.61it/s]\n",
      "Processing files in country: 100%|████████████████████████████████████████████████████| 100/100 [00:10<00:00,  9.10it/s]\n",
      "Processing files in pop: 100%|████████████████████████████████████████████████████████| 100/100 [00:11<00:00,  8.85it/s]\n",
      "Processing files in rock: 100%|███████████████████████████████████████████████████████| 100/100 [00:11<00:00,  9.04it/s]\n",
      "Processing files in disco:  70%|██████████████████████████████████████▌                | 70/100 [00:07<00:03,  9.12it/s]"
     ]
    }
   ],
   "source": [
    "def load_audio_and_preprocess(filepath):\n",
    "    # Load the audio file\n",
    "    y, sr = librosa.load(filepath)\n",
    "\n",
    "    # Compute the mel spectrogram\n",
    "    mel_spectrogram = librosa.feature.melspectrogram(y=y, sr=sr)\n",
    "\n",
    "    return mel_spectrogram\n",
    "\n",
    "# Set the input directory containing the genre subdirectories\n",
    "input_dir = 'Segmented_files'\n",
    "\n",
    "# Set the output file paths for audio features and genre labels\n",
    "output_file_X = 'extracted_csv/mel_spectrogram_X.csv'\n",
    "output_file_y = 'extracted_csv/mel_spectrogram_y.csv'\n",
    "\n",
    "# Call the extract_audio_features function\n",
    "audio_data_df, genre_labels_df = extract_audio_features(input_dir, output_file_X, output_file_y)"
   ]
  },
  {
   "cell_type": "code",
   "execution_count": null,
   "metadata": {},
   "outputs": [],
   "source": []
  }
 ],
 "metadata": {
  "kernelspec": {
   "display_name": "Python (lewagon)",
   "language": "python",
   "name": "lewagon"
  },
  "language_info": {
   "codemirror_mode": {
    "name": "ipython",
    "version": 3
   },
   "file_extension": ".py",
   "mimetype": "text/x-python",
   "name": "python",
   "nbconvert_exporter": "python",
   "pygments_lexer": "ipython3",
   "version": "3.10.6"
  },
  "toc": {
   "base_numbering": 1,
   "nav_menu": {},
   "number_sections": true,
   "sideBar": true,
   "skip_h1_title": false,
   "title_cell": "Table of Contents",
   "title_sidebar": "Contents",
   "toc_cell": false,
   "toc_position": {},
   "toc_section_display": true,
   "toc_window_display": false
  }
 },
 "nbformat": 4,
 "nbformat_minor": 2
}
